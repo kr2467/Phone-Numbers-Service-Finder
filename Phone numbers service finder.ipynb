{
 "cells": [
  {
   "cell_type": "code",
   "execution_count": 12,
   "id": "9890bb77",
   "metadata": {},
   "outputs": [
    {
     "name": "stdout",
     "output_type": "stream",
     "text": [
      "Requirement already satisfied: phonenumbers in c:\\anaconda\\lib\\site-packages (8.12.47)\n",
      "Note: you may need to restart the kernel to use updated packages.\n"
     ]
    }
   ],
   "source": [
    "pip install phonenumbers"
   ]
  },
  {
   "cell_type": "code",
   "execution_count": 13,
   "id": "f4cf8ece",
   "metadata": {},
   "outputs": [],
   "source": [
    "import phonenumbers\n"
   ]
  },
  {
   "cell_type": "code",
   "execution_count": 14,
   "id": "73bb9a7c",
   "metadata": {},
   "outputs": [],
   "source": [
    "from phonenumbers import geocoder"
   ]
  },
  {
   "cell_type": "code",
   "execution_count": 15,
   "id": "50abc39e",
   "metadata": {},
   "outputs": [
    {
     "data": {
      "text/plain": [
       "'India'"
      ]
     },
     "execution_count": 15,
     "metadata": {},
     "output_type": "execute_result"
    }
   ],
   "source": [
    "ch_number = phonenumbers.parse(\"+918888888888\",\"CH\")\n",
    "geocoder.description_for_number(ch_number,\"en\")"
   ]
  },
  {
   "cell_type": "code",
   "execution_count": null,
   "id": "5cfbdbaa",
   "metadata": {},
   "outputs": [],
   "source": []
  },
  {
   "cell_type": "code",
   "execution_count": 16,
   "id": "f08b8831",
   "metadata": {},
   "outputs": [],
   "source": [
    "from phonenumbers import carrier"
   ]
  },
  {
   "cell_type": "code",
   "execution_count": 17,
   "id": "44a0c1ad",
   "metadata": {},
   "outputs": [
    {
     "data": {
      "text/plain": [
       "'Idea'"
      ]
     },
     "execution_count": 17,
     "metadata": {},
     "output_type": "execute_result"
    }
   ],
   "source": [
    "ro_number = phonenumbers.parse(\"+918888888888\",\"RO\")\n",
    "carrier.name_for_number(ro_number,\"en\")"
   ]
  },
  {
   "cell_type": "code",
   "execution_count": null,
   "id": "e86bae75",
   "metadata": {},
   "outputs": [],
   "source": []
  }
 ],
 "metadata": {
  "kernelspec": {
   "display_name": "Python 3 (ipykernel)",
   "language": "python",
   "name": "python3"
  },
  "language_info": {
   "codemirror_mode": {
    "name": "ipython",
    "version": 3
   },
   "file_extension": ".py",
   "mimetype": "text/x-python",
   "name": "python",
   "nbconvert_exporter": "python",
   "pygments_lexer": "ipython3",
   "version": "3.9.7"
  }
 },
 "nbformat": 4,
 "nbformat_minor": 5
}
